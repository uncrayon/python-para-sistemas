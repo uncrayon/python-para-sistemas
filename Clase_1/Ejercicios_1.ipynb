{
 "cells": [
  {
   "cell_type": "markdown",
   "metadata": {},
   "source": [
    "> Estos son los ejercicios que corresponden a el curso de Python para Sistemas. Puedes encontrar la clase correspondiente  en [este link](./Clase_1.ipynb) "
   ]
  },
  {
   "cell_type": "markdown",
   "metadata": {},
   "source": [
    "# Notebook de Práctica"
   ]
  },
  {
   "cell_type": "markdown",
   "metadata": {},
   "source": [
    "Te doy la bienvenida a tu primer conjunto de ejercicios en Python.  \n",
    "\n",
    "Si esta es tu primera vez pasando por aquí espero que te diviertas en este compendio de tutoriales-clases-ejecicios. "
   ]
  },
  {
   "cell_type": "markdown",
   "metadata": {},
   "source": [
    "Ahora, vamos a abordar un poco más los notebooks. Los notebook están compuestos por bloques de texto o código llamados _celdas_. Cada bloque es editable y tendrás que editar algunas celdas para poder avanzar. "
   ]
  },
  {
   "cell_type": "markdown",
   "metadata": {},
   "source": [
    "Para ejecutar el contenido de cada celda deberás apretar o bien el botón ► o bien pararte sobre la celda y apretar ctrl+enter o \n",
    "shift+enter \n",
    "\n",
    "Ejecuta las siguientes celdas para avanzar. "
   ]
  },
  {
   "cell_type": "code",
   "execution_count": null,
   "metadata": {},
   "outputs": [],
   "source": [
    "print(\"Acabar de ejecutar código de Python\")\n",
    "print(\"Amazing ~(˘▾˘~)\")"
   ]
  },
  {
   "cell_type": "code",
   "execution_count": null,
   "metadata": {},
   "outputs": [],
   "source": [
    "print(\"Ahora puedes avanzar\")"
   ]
  },
  {
   "cell_type": "markdown",
   "metadata": {},
   "source": [
    "# Ejercicio 0"
   ]
  },
  {
   "cell_type": "markdown",
   "metadata": {},
   "source": [
    "Ahora, vamoa a comenzar con una pregunta muy sencilla: _¿Te interesan más los virus o las bacterias?_\n",
    "\n",
    "Para completar este ejecicio crea en la siguiente celda de código una varible que se llame `yo_prefiero` y se le asigne en una string lo que te interesa más. Después imprime esa variable. "
   ]
  },
  {
   "cell_type": "code",
   "execution_count": null,
   "metadata": {},
   "outputs": [],
   "source": [
    "# Recuerda que las strings en python son declaradas con comillas 'sencillas' o \"dobles\"\n",
    "# De igual manera, recuerda que puedes imprimir usando la función print"
   ]
  },
  {
   "cell_type": "markdown",
   "metadata": {},
   "source": [
    "Si no pudiste resolver lo anterior te recomiendo que uses el hint que se encuentra en la celda de abajo. \n",
    "\n",
    "Para poder ver el hint deberás de quitar el `#` de la línea `%load hint_q0.py`, de igual menera con la siguiente celda si quieres ver mi solución."
   ]
  },
  {
   "cell_type": "code",
   "execution_count": null,
   "metadata": {},
   "outputs": [],
   "source": [
    "# %load ./hint_q0.py\n",
    "# Este el el hint\n",
    "\n",
    "# Recuerda que para poder correr deberás primero declara una variable, por ejemplo\n",
    "# Si la pregunta fuera sobre tu color favorito entonces podrías hacer\n",
    "# color = 'negro'\n",
    "# print(color)\n",
    "\n",
    "# No olvides correr la celda apretando el símbolo de play o bien alguna variación de shift+enter"
   ]
  },
  {
   "cell_type": "code",
   "execution_count": null,
   "metadata": {},
   "outputs": [],
   "source": [
    "# %load ./sol_q0.py "
   ]
  },
  {
   "cell_type": "markdown",
   "metadata": {},
   "source": [
    "A partir de ahora así serán todos los ejercicios: encontrarás un pequeño desafío, después un hint y la solución del mismo. "
   ]
  },
  {
   "cell_type": "markdown",
   "metadata": {},
   "source": [
    "# Ejercicio 1"
   ]
  },
  {
   "cell_type": "markdown",
   "metadata": {},
   "source": [
    "Para este ejercicio te puede ser útil tener a la vista la tabla de operaciones\n",
    "\n",
    "| Operador |Nombre                           | Descripción                                                                          |\n",
    "|:--------:|----------------------------------|--------------------------------------------------------------------------------------|\n",
    "|    a+b   | Suma                             | Suma de a y b                                                                        |\n",
    "|  a - b   | Resta                            | Diferencia entre a y b                                                               |\n",
    "|   a * b  | Multiplicación                   | Producto de a y b                                                                    |\n",
    "|   a / b  | División (_True Division_)       | División entre a y b                                                                 |\n",
    "|  a // b  | División entera (Floor division) | División entera entre a y b removiendo la parte decimal                              |\n",
    "|   a % b  | Módulo                           | Entero restante después de la división de a y b. Operación del módulo entre enteros. |\n",
    "|  a ** b  | Exponenciación                   | a elevado a la potencia b                                                            |\n",
    "|    -a    | Negación                         | El inverso o negativo de a                                                           |\n"
   ]
  },
  {
   "cell_type": "markdown",
   "metadata": {},
   "source": [
    "Si sumergimos en un [ambiente específico](https://pubmed.ncbi.nlm.nih.gov/15366706/) a células eucariotas, e.g. [Dictyostelium discoideum](https://en.wikipedia.org/wiki/Dictyostelium_discoideum), la mayoría toma una forma esférica y entonces es posible poder calcular la densidad de cada célula si se calcula su volumen.  \n",
    "Es último lo haríamos usando la siguiente relación\n",
    "$$\n",
    "\\rho = \\displaystyle\\frac{M_{cap}}{V}\n",
    "$$\n",
    "Donde $M_{cap}$ es la masa de cada celúla (asumiendo que todas tienen la misma masa). Pero antes de eso tenemos que calcular el volumen de cada célula y como son esféras podemos usar entonces las relaciones que ya conocemos:\n",
    "$$\n",
    "V = \\frac{4}{3}\\pi r^{3}\n",
    "$$"
   ]
  },
  {
   "cell_type": "code",
   "execution_count": null,
   "metadata": {},
   "outputs": [],
   "source": [
    "# Calcula el volumen de la célula usando lo siguiente:\n",
    "d = 9.7 #µm, Diamétro en promedio\n",
    "pi = 3.1416 #Más o menos es esto\n",
    "\n",
    "# Paso 1, crea una variable que se llame radio y asignale el valor del radio partiendo del diámetro\n",
    "\n",
    "# Aquí tu radio\n",
    "\n",
    "# Paso 2, crea una variable que se llame volumen y guarda ahí el valor usando la relación que se presentó para el volumen\n",
    "\n",
    "# Aquí tu volumen\n",
    "\n",
    "# No olvides devolver el resultado\n",
    "\n",
    "# Línea para ver el resultado"
   ]
  },
  {
   "cell_type": "markdown",
   "metadata": {},
   "source": [
    "Recuerda que si tienes duda de cómo hacer alguna operación arriba está la tabla de operadores. "
   ]
  },
  {
   "cell_type": "code",
   "execution_count": null,
   "metadata": {},
   "outputs": [],
   "source": [
    "# %load ./hint_q1.py"
   ]
  },
  {
   "cell_type": "code",
   "execution_count": null,
   "metadata": {},
   "outputs": [],
   "source": [
    "# %load ./sol_q1.py "
   ]
  },
  {
   "cell_type": "markdown",
   "metadata": {},
   "source": [
    "# Ejercicio 2"
   ]
  },
  {
   "cell_type": "markdown",
   "metadata": {},
   "source": [
    "Ahora vamos a hacer un ejercicio clásico de programación: hacer un intercambio (_swap_) de valores entre dos variables. \n",
    "\n",
    "En el ejemplo vamos a tener dos variables `a` y `b` y el objetivo será que `a` terminé con el valor de `b` y `b` terminé con el valor de `a`."
   ]
  },
  {
   "cell_type": "code",
   "execution_count": 2,
   "metadata": {},
   "outputs": [
    {
     "name": "stdout",
     "output_type": "stream",
     "text": [
      "a = [1, 2, 3]\n",
      "b = [-1, -2, -3]\n"
     ]
    }
   ],
   "source": [
    "# Definimos primer es valor de a y b\n",
    "# NO TE OLVIDES DE CORRER ESTA CELDA\n",
    "a = [1,2,3]\n",
    "b = [-1,-2,-3]\n",
    "\n",
    "print('a = {}'.format(a))\n",
    "print('b = {}'.format(b))\n",
    "\n",
    "# Si tienes curiosidad de qué es eso que está entre [·] a eso se le llama lista\n",
    "# No te preocupes, en un par de clases más abordaremos cómo usarlas. "
   ]
  },
  {
   "cell_type": "code",
   "execution_count": 4,
   "metadata": {},
   "outputs": [
    {
     "name": "stdout",
     "output_type": "stream",
     "text": [
      "a = [1, 2, 3]\n",
      "b = [-1, -2, -3]\n"
     ]
    }
   ],
   "source": [
    "# Ahora, no olvides que el objetivo es que a termine con el valor de b y b con el de a. \n",
    "\n",
    "# Aquí pon tu código. \n",
    "\n",
    "print('a = {}'.format(a))\n",
    "print('b = {}'.format(b))\n",
    "\n",
    "#Si lo hiciste bien el print tendrá las salidas contrarias a el print anterior"
   ]
  },
  {
   "cell_type": "code",
   "execution_count": 8,
   "metadata": {},
   "outputs": [],
   "source": [
    "# %load ./hint_q2.py"
   ]
  },
  {
   "cell_type": "code",
   "execution_count": 11,
   "metadata": {},
   "outputs": [],
   "source": [
    "# %load ./sol_q2.py "
   ]
  },
  {
   "cell_type": "markdown",
   "metadata": {},
   "source": [
    "# Ejercicio 3"
   ]
  },
  {
   "cell_type": "markdown",
   "metadata": {},
   "source": [
    "(a) Añade los paréntesis en los lugares adecuados para que la siquiente expresión devuelva un 1. "
   ]
  },
  {
   "cell_type": "code",
   "execution_count": 16,
   "metadata": {},
   "outputs": [
    {
     "data": {
      "text/plain": [
       "-3"
      ]
     },
     "execution_count": 16,
     "metadata": {},
     "output_type": "execute_result"
    }
   ],
   "source": [
    "10 - 5 - 2 // 3 - 8"
   ]
  },
  {
   "cell_type": "code",
   "execution_count": 19,
   "metadata": {},
   "outputs": [],
   "source": [
    "# %load ./hint_q3.py"
   ]
  },
  {
   "cell_type": "code",
   "execution_count": 43,
   "metadata": {},
   "outputs": [],
   "source": [
    "# %load ./sol_q3_a.py"
   ]
  },
  {
   "cell_type": "markdown",
   "metadata": {},
   "source": [
    "(b) Añade los paréntesis en los lugares adecuados para que la siquiente expresión devuelva un 0. "
   ]
  },
  {
   "cell_type": "code",
   "execution_count": 23,
   "metadata": {},
   "outputs": [
    {
     "data": {
      "text/plain": [
       "2"
      ]
     },
     "execution_count": 23,
     "metadata": {},
     "output_type": "execute_result"
    }
   ],
   "source": [
    "8 - 3 * 2 - 1 + 1"
   ]
  },
  {
   "cell_type": "code",
   "execution_count": 24,
   "metadata": {},
   "outputs": [],
   "source": [
    "# %load ./hint_q3.py"
   ]
  },
  {
   "cell_type": "code",
   "execution_count": 25,
   "metadata": {},
   "outputs": [],
   "source": [
    "# %load ./sol_q3_b.py "
   ]
  },
  {
   "cell_type": "markdown",
   "metadata": {},
   "source": [
    "# Ejercicio 4"
   ]
  },
  {
   "cell_type": "markdown",
   "metadata": {},
   "source": [
    "Alicia, Roberto y Carolina acordaron compartir sus dulces de día de muertos y además repartirlos en partes iguales. Por el bien de su amistad cualquier dulce que sobre será destruido. Por ejemplo si juntan 10 dulces entonces les toca de a 3 dulces y sobrará 1, ése es el que se destruirá. \n",
    "\n",
    "Dados los dulces que junto cada persona escribe una expresión aritmética para determinar cuántos dulces se deberán de destruir."
   ]
  },
  {
   "cell_type": "code",
   "execution_count": 27,
   "metadata": {},
   "outputs": [],
   "source": [
    "dulces_alicia = 121\n",
    "dulces_roberto = 77\n",
    "dulces_carolina = 109"
   ]
  },
  {
   "cell_type": "code",
   "execution_count": 29,
   "metadata": {},
   "outputs": [],
   "source": [
    "# Aquí escribe tu código e imprime la variable"
   ]
  },
  {
   "cell_type": "code",
   "execution_count": 41,
   "metadata": {},
   "outputs": [],
   "source": [
    "# %load ./hint_q4.py"
   ]
  },
  {
   "cell_type": "code",
   "execution_count": 48,
   "metadata": {},
   "outputs": [],
   "source": [
    "# %load ./sol_q4.py"
   ]
  },
  {
   "cell_type": "markdown",
   "metadata": {},
   "source": [
    " "
   ]
  },
  {
   "cell_type": "markdown",
   "metadata": {},
   "source": [
    "  "
   ]
  },
  {
   "cell_type": "markdown",
   "metadata": {},
   "source": [
    "## ¿Qué tal sentiste los retos?\n",
    "\n",
    "No pares ahora, en la siguiente clase aprenderás a escribir nuevas funciones y entender las funciones que otras personas escriben. La verdad es que esto te ahorrará tanto tiempo como para disminuir tus tiempos programando en Python en un factor de 10. "
   ]
  }
 ],
 "metadata": {
  "kernelspec": {
   "display_name": "Python 3",
   "language": "python",
   "name": "python3"
  },
  "language_info": {
   "codemirror_mode": {
    "name": "ipython",
    "version": 3
   },
   "file_extension": ".py",
   "mimetype": "text/x-python",
   "name": "python",
   "nbconvert_exporter": "python",
   "pygments_lexer": "ipython3",
   "version": "3.7.3"
  },
  "toc-autonumbering": false
 },
 "nbformat": 4,
 "nbformat_minor": 4
}
