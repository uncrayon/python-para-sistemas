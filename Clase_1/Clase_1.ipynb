{
 "cells": [
  {
   "cell_type": "markdown",
   "metadata": {},
   "source": [
    "# Intro"
   ]
  },
  {
   "cell_type": "markdown",
   "metadata": {},
   "source": [
    "¡Hola! \n",
    "\n",
    "Este curso sale derivado de la necesidad de poder enseñar a programar de manera asíncrona en los cursos de [Biología Matemática II](http://www.fciencias.unam.mx/docencia/horarios/presentacion/322261) y el [Seminario Matemáticas Aplicadas II](http://www.fciencias.unam.mx/docencia/horarios/presentacion/322339) en donde el uso de la computadora se hará fundamental."
   ]
  },
  {
   "cell_type": "markdown",
   "metadata": {},
   "source": [
    "Si bien esta es una introducción somera a Python trataremos de cubrir las bases para que de manera autónoma se pueda extender el estudio del lenguaje hacia cualquiera de [_sus propósitos_](https://www.python.org/about/apps/). En Python es posible hacer [desarrollo web-fullstack](https://www.fullstackpython.com/web-development.html) y al mismo tiempo nos permite hacer cómputo científico. Incluso, junto con [R](https://www.r-project.org/about.html), es uno los lenguajes principales para desarrollo de machine learning, ingeniería de datos, visualización, entre otros tópicos bien interesantes. "
   ]
  },
  {
   "cell_type": "markdown",
   "metadata": {},
   "source": [
    "**NOTA:** Este curso está bien inspirado y guiado en el [curso de kaggle de Python](https://www.kaggle.com/learn/python) el cual es gratuito. Seguiré la misma estructura con ejemplos y ejercicios similares pero en esta serie iré introduciendo ejercicios que competen a un curso en biología matemática o matemáticas aplicadas. "
   ]
  },
  {
   "cell_type": "markdown",
   "metadata": {},
   "source": [
    "# ¡Hola, Python! (¿En Jupyter Notebook?)"
   ]
  },
  {
   "cell_type": "markdown",
   "metadata": {},
   "source": [
    "Antes de comenzar de lleno a hablar de Python me gustaría que abordaramos un poco dónde es que estamos. Y no me refiero _a la [Wittgenstein](https://en.wikipedia.org/wiki/Ludwig_Wittgenstein)_ sino más referente a donde vamos a programar. Una de dos, o estás corriendo este notebook en local en Jupyter [Notebook](https://jupyterlab.readthedocs.io/en/stable/getting_started/installation.html)/[Lab](https://jupyterlab.readthedocs.io/en/stable/getting_started/installation.html) o bien lo estás corriendo en [Google Colab](https://colab.research.google.com/) o un similar([Cocalc](https://cocalc.com/), [Kaggle Notebooks](https://www.kaggle.com/notebooks), [Binder](https://mybinder.org/), etc.). Si estás leyendo esto en GitHub te recomiendo que descarges este repositorio completo, lo subas a drive y te vayas directo a Colab. Aquí te explico cómo hacerlo."
   ]
  },
  {
   "cell_type": "markdown",
   "metadata": {},
   "source": [
    "Ahora, ya que estamos aquí de verdad vamos a hablar de manera breve de los [Jupyter notebooks](https://jupyter.org/):\n",
    ">Un notebook de manera general es un formato con extentension `.ipynb` con un formato [JSON](https://en.wikipedia.org/wiki/JSON) que guarda un registro completo de la sesión de usuario (los cambios que hace o no hace en el archivo) e incluye código, texto narrativo, ecuaciones y una salida erriquecedora. El notebook se comunica con _kernels_ mediante el _protocolo de cómputo interactivo_. Por último, los kernels son procesos que corren código de manera interactiva en un lenguaje de programación específico y regresa el output a la persona que ejecuta el código.   \n",
    "\n",
    "Lo que esto quiere decir es que vamos a poder ejecutar código en el lenguaje de nuestra preferencia y además en un ambiente que sea agradable e intereactivo no en una terminal plana. Además vamos a poder añadir texto con formato, latex y usar la salida del código, mostrar gráficas e incluso interactuar con ellas."
   ]
  },
  {
   "cell_type": "markdown",
   "metadata": {},
   "source": [
    "Ahora sí, vamos con Python. \n",
    "\n",
    "Vamos a comenzar haciendo un programa corto pero no sencillo."
   ]
  },
  {
   "cell_type": "code",
   "execution_count": 14,
   "metadata": {},
   "outputs": [
    {
     "name": "stdout",
     "output_type": "stream",
     "text": [
      "1\n",
      "Hay más de tres en el conteo de la espcie\n",
      "¡Espécimen Espécimen Espécimen Espécimen Espécimen !\n"
     ]
    }
   ],
   "source": [
    "# Conteo inicial de especies\n",
    "numero_de_especies = 1\n",
    "print(numero_de_especies)\n",
    "\n",
    "# Nuevo conteo de especies\n",
    "numero_de_especies = numero_de_especies + 4\n",
    "\n",
    "if numero_de_especies > 3:\n",
    "    print(\"Hay más de tres en el conteo de la espcie\")\n",
    "\n",
    "canción_de_especímenes = '¡'+ \"Espécimen \" * numero_de_especies + '!'\n",
    "print(canción_de_especímenes)"
   ]
  },
  {
   "cell_type": "markdown",
   "metadata": {},
   "source": [
    "  "
   ]
  },
  {
   "cell_type": "markdown",
   "metadata": {},
   "source": [
    "Con el pequeño bloque de código anterior vamos a poder demostrar los aspectos más importantes de cómo luce códifo de Python y además cómo trabaja. Vayamos a analizar el código desde las primeras líneas hasta la última. "
   ]
  },
  {
   "cell_type": "code",
   "execution_count": 15,
   "metadata": {},
   "outputs": [],
   "source": [
    "numero_de_especies = 1"
   ]
  },
  {
   "cell_type": "markdown",
   "metadata": {},
   "source": [
    "**Asignamiento de variables:** Lo que hicimos en esta línea es crear una variable llamada `numero_de_especies` y le asigna un valor de 0 usando `=` el cual es llamado el operador de asignación.\n",
    "> **NOTA:** Si has programado alguna vez en un lenguaje como C/C#, Java o C++ notarás que en Python hay algunas cosas que no tienes que hacer:\n",
    "> * No necesitas _declarar_ las variables antes de usarla\n",
    "> * No necesitas decirle a Python qué tipo de valor le vas a asignar a una variable. Incluso puedes asignarle otro tipo de valor a la variable sin tener que declararla, por ejemplo puede ser un booleano o un flotante. "
   ]
  },
  {
   "cell_type": "code",
   "execution_count": 16,
   "metadata": {},
   "outputs": [
    {
     "name": "stdout",
     "output_type": "stream",
     "text": [
      "1\n"
     ]
    }
   ],
   "source": [
    "print(numero_de_especies)"
   ]
  },
  {
   "cell_type": "markdown",
   "metadata": {},
   "source": [
    "**Llamada de funciones:** `print` es una función de Python que muestra el valor que se le pasa en la pantalla. Llamamos a las funciones colocando paréntesis después del nombre y poniendo las entradas o argumentos de la función en esos paréntesis."
   ]
  },
  {
   "cell_type": "code",
   "execution_count": 17,
   "metadata": {},
   "outputs": [],
   "source": [
    "# Nuevo conteo de especies\n",
    "numero_de_especies = numero_de_especies + 4"
   ]
  },
  {
   "cell_type": "markdown",
   "metadata": {},
   "source": [
    "La primer línea del block anterior es llamado un **comentario**. En Python los comentarios comienzan con el símbolo `#` y los comentarios son líneas de código que no se ejecutan, podemos escribir lo que queramos y no afectara a nuestro código. "
   ]
  },
  {
   "cell_type": "markdown",
   "metadata": {},
   "source": [
    "En la siguiente línea vemos una operación de _reasignamiento_. Únicamente se realiza una reasginación cuando la variable ya existía antes y cambiamos ahora el valor usando el operador de asignación `=`, si la variable no existía antes entonces es simplemente una asignación. "
   ]
  },
  {
   "cell_type": "markdown",
   "metadata": {},
   "source": [
    "En este caso estamos asignando a `numero_de_especies` el valor resultante de la operación aritmética `numero_de_especies + 4`... Raro ¿Cierto?  \n",
    "En Python, y en la gran mayoría de leguajes, el programa se ejecuta línea por línea, i.e. primero la línea de código 0, luego la 1, hasta la $n$. Luego, en cada una de las líneas se ejecuta la operación que esté o bien a la derecha del operador de asignación, o bien dentro de parentesís.  \n",
    "\n",
    "Por lo anterior es que entonces `numero_de_especies` tiene un valor de `5` pues primero se ejecuta la operación `numero_de_especies + 4` y el valor de `numero_de_especies` para ese momento era `1` por lo que `numero_de_especies + 4` es `5`, luego de que se resuelve esa operación se ejecuta la reasignación. `numero_de_especies` toma ahora el valor de `5`. \n",
    "\n",
    "¿Cuál crees que sea ahora el output de la siguiente línea de código?\n",
    "```python\n",
    "print(numero_de_especies + 1)\n",
    "```"
   ]
  },
  {
   "cell_type": "markdown",
   "metadata": {},
   "source": [
    " "
   ]
  },
  {
   "cell_type": "code",
   "execution_count": 20,
   "metadata": {},
   "outputs": [
    {
     "name": "stdout",
     "output_type": "stream",
     "text": [
      "Hay más de tres en el conteo de la especie\n",
      "¡Espécimen Espécimen Espécimen Espécimen Espécimen !\n"
     ]
    }
   ],
   "source": [
    "if numero_de_especies > 3:\n",
    "    print(\"Hay más de tres en el conteo de la especie\")\n",
    "\n",
    "canción_de_especímenes = '¡'+ \"Espécimen \" * numero_de_especies + '!'\n",
    "print(canción_de_especímenes)"
   ]
  },
  {
   "cell_type": "markdown",
   "metadata": {},
   "source": [
    "Justo ahora no vamos a hablar de **condicionales** sin embargo aquí tenemos uno: `if`. Una cosa fantástica de Python es su legibilidad y simplicidad, podemos intuir el uso del `if`; solamente pasará algo si se cumple una condición, eso hará el `if`."
   ]
  },
  {
   "cell_type": "markdown",
   "metadata": {},
   "source": [
    "En el caso anterior `\"Hay más de tres en el conteo de la especie\"` solamente aparecerá en la pantalla si `numero_de_especies` es mayor que `3`. Sin embargo el último `print(canción_de_especímenes)` se ejecutará sin importar el valor de `numero_de_especies` pero ¿Cómo sabemos nosotros (y Python) que se va ejecutar un bloque de código o no otro según una condición?"
   ]
  },
  {
   "cell_type": "markdown",
   "metadata": {},
   "source": [
    "Los dos puntos `:` al final del `if` indican que un _nuevo bloque de código_ es empezando. Las líneas de código subsecuentes que estén identadas son parte del nuevo bloque de código. Otros lenguajes usan `{}` para denotar el inicio de un nuevo código de bloque:\n",
    "```javascript\n",
    "conteo_especies = 5\n",
    "\n",
    "if(conteo_especies == 5){ \n",
    "    console.log('Son 5 especies contadas') \n",
    "}\n",
    "```\n",
    "El uso del espaciado o identación tiende a ser una cosa de gran sorpresa -en algunos casos de disgusto- para personas que han programado en otros lenguaje antes sin embargo con la práctica tiende a ser más consistente y limpio (no tienes que estar cazando un `}` perdido, por ejemplo)."
   ]
  },
  {
   "cell_type": "markdown",
   "metadata": {},
   "source": [
    "¿Qué output crees que tenga el siguiente bloque de código?\n",
    "```python\n",
    "conteo_especies = 5\n",
    "if conteo_especies > 2:\n",
    "    if conteo_especies < 6:\n",
    "        print(\"Hay más de 2 especies pero menos de 6\")\n",
    "    else:\n",
    "        print(\"Hay contadas más de 6 especies\")\n",
    "```"
   ]
  },
  {
   "cell_type": "markdown",
   "metadata": {},
   "source": [
    "  "
   ]
  },
  {
   "cell_type": "markdown",
   "metadata": {},
   "source": [
    "Las dos últimas líneas en nuestro código original no están identadas por lo que no pertenecen al bloque del `if`.  Estas últimas líneas trabajan con la variable `canción_de_especímenes`. A lo largo del código trabjamos con **strings** en Python, por ejemplo\n",
    "```python\n",
    "\"Hay más de tres en el conteo de la especie\"\n",
    "```\n",
    "Las cadenas o strings pueden ser marcadas o denotadas por pares de comillas sencillas `\".\"` o por comidas simples `'.'` pero no combinaciones de ellas. "
   ]
  },
  {
   "cell_type": "code",
   "execution_count": 21,
   "metadata": {},
   "outputs": [
    {
     "name": "stdout",
     "output_type": "stream",
     "text": [
      "¡Espécimen Espécimen Espécimen Espécimen Espécimen !\n"
     ]
    }
   ],
   "source": [
    "canción_de_especímenes = '¡'+ \"Espécimen \" * numero_de_especies + '!'\n",
    "print(canción_de_especímenes)"
   ]
  },
  {
   "cell_type": "markdown",
   "metadata": {},
   "source": [
    "El operador `*` puede ser usado para multiplicar dos números (`3*3` no devolvería un `9`) pero también para multiplicar strings por números, para obtener esa string repetida el número del veces por el que se le multiplicó.  \n",
    "Por otro lado tenemos el operador `+` que puede ser usado para sumar dos números (`3 + 3` nos devolvería un `6`) pero también para **concatenar** strings. Este operador es muy últil pues podemos realizar operaciones que en otros lenguajes es un poco engorrosa simplemente como `'¡' + 'Excelente' + '!'` lo cual nos devolvería la string `'¡Excelente!'`  \n",
    "\n",
    "¿Qué crees que nos deolvería el siguiente bloque de código?\n",
    "```python\n",
    "a = 'azul'\n",
    "b = 'verde'\n",
    "amarillo = a + '+' + b\n",
    "print(amarillo)\n",
    "```"
   ]
  },
  {
   "cell_type": "markdown",
   "metadata": {},
   "source": [
    "Por último, al hecho de que un operador pueda realizar una operación en función de qué tipo de variables esté operando se le llama **sobrecarga de operadores** y es bastante usado. Con la práctica se volverá muy natural usar los opereadores sin pensar en el tipo de variables. "
   ]
  },
  {
   "cell_type": "markdown",
   "metadata": {},
   "source": [
    "# Números y arimética en Python"
   ]
  },
  {
   "cell_type": "markdown",
   "metadata": {},
   "source": [
    "Hasta este momento ya revisamos un ejemplo de una variable que contiene un número:"
   ]
  },
  {
   "cell_type": "code",
   "execution_count": 1,
   "metadata": {},
   "outputs": [],
   "source": [
    "numero_de_especies = 1"
   ]
  },
  {
   "cell_type": "markdown",
   "metadata": {},
   "source": [
    "Si nos referimos a _número_ realmente nos refiremos a un ente más complicado que dentro de Python, la forma de poder definirlo y pedirle a Python que la describe es como sigue:"
   ]
  },
  {
   "cell_type": "code",
   "execution_count": 2,
   "metadata": {},
   "outputs": [
    {
     "data": {
      "text/plain": [
       "int"
      ]
     },
     "execution_count": 2,
     "metadata": {},
     "output_type": "execute_result"
    }
   ],
   "source": [
    "type(numero_de_especies)"
   ]
  },
  {
   "cell_type": "markdown",
   "metadata": {},
   "source": [
    "Notemos que es un `int`, una abreviación para _integer_ (entero). Hay otro tipo de número que usaremos de manera común en Python:"
   ]
  },
  {
   "cell_type": "code",
   "execution_count": 3,
   "metadata": {},
   "outputs": [
    {
     "data": {
      "text/plain": [
       "float"
      ]
     },
     "execution_count": 3,
     "metadata": {},
     "output_type": "execute_result"
    }
   ],
   "source": [
    "type(3.1416)"
   ]
  },
  {
   "cell_type": "markdown",
   "metadata": {},
   "source": [
    "Un `float` es un número con dígitos decimales y son muy útiles para denotar pesos o proporciones. "
   ]
  },
  {
   "cell_type": "markdown",
   "metadata": {},
   "source": [
    "La función `type()` es la segunda función _built-in_ que vemos (la primera fue `print()`) y de verdad que es bien importante ser capaz de preguntarle a Python _¿Qué tipo de varible es esta?_"
   ]
  },
  {
   "cell_type": "markdown",
   "metadata": {},
   "source": [
    " "
   ]
  },
  {
   "cell_type": "markdown",
   "metadata": {},
   "source": [
    "La cosa más natural de querer hacer con los números son operaciones aritméticas. Hasta el momento ya usamos y visitamos `*` y `+`. En Python también tenemos el resto de operaciones básicas de operaciones de calculadora:\n",
    "\n",
    "| Operador |Nombre                           | Descripción                                                                          |\n",
    "|:--------:|----------------------------------|--------------------------------------------------------------------------------------|\n",
    "|    a+b   | Suma                             | Suma de a y b                                                                        |\n",
    "|  a - b   | Resta                            | Diferencia entre a y b                                                               |\n",
    "|   a * b  | Multiplicación                   | Producto de a y b                                                                    |\n",
    "|   a / b  | División (_True Division_)       | División entre a y b                                                                 |\n",
    "|  a // b  | División entera (Floor division) | División entera entre a y b removiendo la parte decimal                              |\n",
    "|   a % b  | Módulo                           | Entero restante después de la división de a y b. Operación del módulo entre enteros. |\n",
    "|  a ** b  | Exponenciación                   | a elevado a la potencia b                                                            |\n",
    "|    -a    | Negación                         | El inverso o negativo de a                                                           |\n",
    "\n",
    "Quizás una de las cosas más interesantes es que mientras que otros lenguajes tiene únicamente una operación de división en Python hay dos: _True Division_ y _Floor Division_.\n",
    "\n",
    "Mientras que el operador `/` siempre nos da un `float`:"
   ]
  },
  {
   "cell_type": "code",
   "execution_count": 10,
   "metadata": {},
   "outputs": [
    {
     "name": "stdout",
     "output_type": "stream",
     "text": [
      "2/5 = 0.4\n",
      "3/2 = 1.5\n"
     ]
    }
   ],
   "source": [
    "print('2/5 = {}'.format(2/5))\n",
    "print('3/2 = {}'.format(3/2))"
   ]
  },
  {
   "cell_type": "markdown",
   "metadata": {},
   "source": [
    "El operador `//` siempre nos da un número entero: el entero más cercano al resultado de la división:"
   ]
  },
  {
   "cell_type": "code",
   "execution_count": 12,
   "metadata": {},
   "outputs": [
    {
     "name": "stdout",
     "output_type": "stream",
     "text": [
      "2//5 = 0\n",
      "3//2 = 1\n"
     ]
    }
   ],
   "source": [
    "print('2//5 = {}'.format(2//5))\n",
    "print('3//2 = {}'.format(3//2))"
   ]
  },
  {
   "cell_type": "markdown",
   "metadata": {},
   "source": [
    " \n"
   ]
  },
  {
   "cell_type": "markdown",
   "metadata": {},
   "source": [
    "##  Precedencia de operadores"
   ]
  },
  {
   "cell_type": "markdown",
   "metadata": {},
   "source": [
    "A lo largo de primaria, secundaria y preparatoria fuimos prendiendo nuevos tipos de operaciones y con ellas fuimos aprendiendo en qué orden ejecutarlas dentro de una expresión. El orden de ejecución de operaciones es Patentesís, Exponentes, Multiplicaciones/Divisiones y Adición/Substracción.  \n",
    "\n",
    "En python las operaciones siguen un orden similar:"
   ]
  },
  {
   "cell_type": "code",
   "execution_count": 14,
   "metadata": {},
   "outputs": [
    {
     "data": {
      "text/plain": [
       "12"
      ]
     },
     "execution_count": 14,
     "metadata": {},
     "output_type": "execute_result"
    }
   ],
   "source": [
    "-3 + 7 + 8"
   ]
  },
  {
   "cell_type": "code",
   "execution_count": 15,
   "metadata": {},
   "outputs": [
    {
     "data": {
      "text/plain": [
       "16"
      ]
     },
     "execution_count": 15,
     "metadata": {},
     "output_type": "execute_result"
    }
   ],
   "source": [
    "-4 + 10*2"
   ]
  },
  {
   "cell_type": "markdown",
   "metadata": {},
   "source": [
    "Sin embargo el orden de las operaciones no es necesariamente lo que siempre queremos"
   ]
  },
  {
   "cell_type": "code",
   "execution_count": 3,
   "metadata": {},
   "outputs": [
    {
     "name": "stdout",
     "output_type": "stream",
     "text": [
      "El largo total de la rana en metros es = 3.05 (?)\n"
     ]
    }
   ],
   "source": [
    "largo_lengua_rana = 3 #cm\n",
    "largo_rana = 5 #cm\n",
    "# ¿Cuánto mide de largo una rana en metros con la lengua estirada?\n",
    "largo_rana_total = largo_lengua_rana + largo_rana / 100\n",
    "print(\"El largo total de la rana en metros es =\",largo_rana_total,\"(?)\")"
   ]
  },
  {
   "cell_type": "markdown",
   "metadata": {},
   "source": [
    "Para corregir lo anterior neceistamos la ayuda de los parentesís. En cuanto nostros los añadimos creamos _sub-expresiones_ y con esto forzamos a Python a evaluarlas en el orden que queramos:"
   ]
  },
  {
   "cell_type": "code",
   "execution_count": 5,
   "metadata": {},
   "outputs": [
    {
     "name": "stdout",
     "output_type": "stream",
     "text": [
      "El largo total de la rana en metros es = 0.08\n"
     ]
    }
   ],
   "source": [
    "largo_rana_total = (largo_lengua_rana + largo_rana) / 100\n",
    "print(\"El largo total de la rana en metros es =\",largo_rana_total)"
   ]
  },
  {
   "cell_type": "markdown",
   "metadata": {},
   "source": [
    " "
   ]
  },
  {
   "cell_type": "markdown",
   "metadata": {},
   "source": [
    "## Una par más de funciones built-in. "
   ]
  },
  {
   "cell_type": "markdown",
   "metadata": {},
   "source": [
    "Hasta ahora se presentaron ya dos funciones built-in `print()` y `type()`. Estas funciones pueden recibir cualquier tipo de variable y nos darán un output. Ahora vamos a presentar unas funciones que son específicas para poder trabajar con variables numéricas."
   ]
  },
  {
   "cell_type": "markdown",
   "metadata": {},
   "source": [
    "Las funciones `min` y `max` nos dan como output el mínimo y el máximo de sus argumentos,"
   ]
  },
  {
   "cell_type": "code",
   "execution_count": 8,
   "metadata": {},
   "outputs": [
    {
     "name": "stdout",
     "output_type": "stream",
     "text": [
      "1\n",
      "5\n"
     ]
    }
   ],
   "source": [
    "print(min(3,1,4))\n",
    "print(max(1,1,2,3,5))"
   ]
  },
  {
   "cell_type": "markdown",
   "metadata": {},
   "source": [
    "Por otro lado la función `abs` nos regresa el valor absoluto de su argumento:"
   ]
  },
  {
   "cell_type": "code",
   "execution_count": 9,
   "metadata": {},
   "outputs": [
    {
     "name": "stdout",
     "output_type": "stream",
     "text": [
      "42\n",
      "42\n"
     ]
    }
   ],
   "source": [
    "print(abs(42))\n",
    "print(abs(-42))"
   ]
  },
  {
   "cell_type": "markdown",
   "metadata": {},
   "source": [
    "Por último, en adición a las funciones anteriores tenemos también las funciones `int` y `float` que además de ser tipos númericos en Python también pueden ser llamadas como funciones. Dichas funciones conviertes sus argumentos al tipo del nombre correspondiente:"
   ]
  },
  {
   "cell_type": "code",
   "execution_count": 10,
   "metadata": {},
   "outputs": [
    {
     "name": "stdout",
     "output_type": "stream",
     "text": [
      "42.0\n",
      "3\n"
     ]
    }
   ],
   "source": [
    "print(float(42))\n",
    "print(int(3.1416))"
   ]
  },
  {
   "cell_type": "markdown",
   "metadata": {},
   "source": [
    "Una cosa poderosa de éstas funciones es que pueden convertir strings en tipos numéricos:"
   ]
  },
  {
   "cell_type": "code",
   "execution_count": 13,
   "metadata": {},
   "outputs": [
    {
     "name": "stdout",
     "output_type": "stream",
     "text": [
      "42\n",
      "3.1416\n"
     ]
    }
   ],
   "source": [
    "print(int('41')+1)\n",
    "print(float('3')+0.1416)"
   ]
  },
  {
   "cell_type": "markdown",
   "metadata": {},
   "source": [
    " "
   ]
  },
  {
   "cell_type": "markdown",
   "metadata": {},
   "source": [
    "## Tu turno "
   ]
  },
  {
   "cell_type": "markdown",
   "metadata": {},
   "source": [
    "Ahora es tu oportunidad de probar lo que aprendimos en esta breve clase. Inténtalo en tu [primer notebook de ejercicios](./Ejercicios_1.ipynb)."
   ]
  }
 ],
 "metadata": {
  "kernelspec": {
   "display_name": "Python 3",
   "language": "python",
   "name": "python3"
  },
  "language_info": {
   "codemirror_mode": {
    "name": "ipython",
    "version": 3
   },
   "file_extension": ".py",
   "mimetype": "text/x-python",
   "name": "python",
   "nbconvert_exporter": "python",
   "pygments_lexer": "ipython3",
   "version": "3.7.3"
  },
  "toc-autonumbering": true
 },
 "nbformat": 4,
 "nbformat_minor": 4
}
