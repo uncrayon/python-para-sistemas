{
 "cells": [
  {
   "cell_type": "markdown",
   "metadata": {},
   "source": [
    "# Intro"
   ]
  },
  {
   "cell_type": "markdown",
   "metadata": {},
   "source": [
    "Al momento ya visitamos y exploramos diversas _built-in functions_ o _funciones nativas de Python_ tales como `max`, `min`, `abs` y `print`. Déjame decirte que Python tiene muchas más funciones y además podrás definir tus propias funciones.\n",
    "\n",
    "En esta lección vas a aprener a definir tus propias funciones. "
   ]
  },
  {
   "cell_type": "markdown",
   "metadata": {},
   "source": [
    "# Cómo pedir ayuda."
   ]
  },
  {
   "cell_type": "markdown",
   "metadata": {},
   "source": [
    "Vamos rescatar la función `abs()` que visitamos en la lección anterior ¿Recuerdas qué hace? ¿Qué pasaría si olvidas qué hace?"
   ]
  },
  {
   "cell_type": "markdown",
   "metadata": {},
   "source": [
    "Para subsanar lo anteior vamos a introducir la función `help()`, la cual es quizás la más importante de todas las funciones de Python que se pueden aprender. Así, si algún día olvidas qué hacia o cómo usar una función puedes aplicarle la función `help()`. \n",
    "\n",
    "Como ejemplo usemos la función `help()` sobre la función `abs()`"
   ]
  },
  {
   "cell_type": "code",
   "execution_count": 3,
   "metadata": {},
   "outputs": [
    {
     "name": "stdout",
     "output_type": "stream",
     "text": [
      "Help on built-in function abs in module builtins:\n",
      "\n",
      "abs(x, /)\n",
      "    Return the absolute value of the argument.\n",
      "\n"
     ]
    }
   ],
   "source": [
    "help(abs)"
   ]
  },
  {
   "cell_type": "markdown",
   "metadata": {},
   "source": [
    "En este caso nos dice que la función `abs()` recibe una variable `x` y regresa su valor absoluto. \n",
    "\n",
    "Como siguiente ejemplo visitemos la función `print()`:"
   ]
  },
  {
   "cell_type": "code",
   "execution_count": 6,
   "metadata": {},
   "outputs": [
    {
     "name": "stdout",
     "output_type": "stream",
     "text": [
      "Help on built-in function round in module builtins:\n",
      "\n",
      "round(number, ndigits=None)\n",
      "    Round a number to a given precision in decimal digits.\n",
      "    \n",
      "    The return value is an integer if ndigits is omitted or None.  Otherwise\n",
      "    the return value has the same type as the number.  ndigits may be negative.\n",
      "\n"
     ]
    }
   ],
   "source": [
    "help(round)"
   ]
  },
  {
   "cell_type": "markdown",
   "metadata": {},
   "source": [
    "La función `help()` muestra dos cosas:\n",
    "1. El encabezado de la función: `abs(x,\\)`, `round(number, ndigits=None)`. Lo que nos dice en el caso de `abs()` es que la función toma como entrada una varible `x` mientras que `round()` recibe como un argumento que podemos identificar con `number` y de manera opcional le podemos pasar, separando por una coma, otro argumento que es descrito como `ndigits`.\n",
    "1. Una descripción en inglés de lo que hace la función. "
   ]
  },
  {
   "cell_type": "markdown",
   "metadata": {},
   "source": [
    "**NOTA**: Ten mucho cuidado cuando uses `help()`, recuerda que debes pasar como argumento la función y no el output de la función:"
   ]
  },
  {
   "cell_type": "code",
   "execution_count": 1,
   "metadata": {},
   "outputs": [
    {
     "name": "stdout",
     "output_type": "stream",
     "text": [
      "Help on built-in function abs in module builtins:\n",
      "\n",
      "abs(x, /)\n",
      "    Return the absolute value of the argument.\n",
      "\n"
     ]
    }
   ],
   "source": [
    "# Bien ejecutado\n",
    "help(abs)"
   ]
  },
  {
   "cell_type": "code",
   "execution_count": 4,
   "metadata": {},
   "outputs": [
    {
     "name": "stdout",
     "output_type": "stream",
     "text": [
      "Help on int object:\n",
      "\n",
      "class int(object)\n",
      " |  int([x]) -> integer\n",
      " |  int(x, base=10) -> integer\n",
      " |  \n",
      " |  Convert a number or string to an integer, or return 0 if no arguments\n",
      " |  are given.  If x is a number, return x.__int__().  For floating point\n",
      " |  numbers, this truncates towards zero.\n",
      " |  \n",
      " |  If x is not a number or if base is given, then x must be a string,\n",
      " |  bytes, or bytearray instance representing an integer literal in the\n",
      " |  given base.  The literal can be preceded by '+' or '-' and be surrounded\n",
      " |  by whitespace.  The base defaults to 10.  Valid bases are 0 and 2-36.\n",
      " |  Base 0 means to interpret the base from the string as an integer literal.\n",
      " |  >>> int('0b100', base=0)\n",
      " |  4\n",
      " |  \n",
      " |  Methods defined here:\n",
      " |  \n",
      " |  __abs__(self, /)\n",
      " |      abs(self)\n",
      " |  \n",
      " |  __add__(self, value, /)\n",
      " |      Return self+value.\n",
      " |  \n",
      " |  __and__(self, value, /)\n",
      " |      Return self&value.\n",
      " |  \n",
      " |  __bool__(self, /)\n",
      " |      self != 0\n",
      " |  \n",
      " |  __ceil__(...)\n",
      " |      Ceiling of an Integral returns itself.\n",
      " |  \n",
      " |  __divmod__(self, value, /)\n",
      " |      Return divmod(self, value).\n",
      " |  \n",
      " |  __eq__(self, value, /)\n",
      " |      Return self==value.\n",
      " |  \n",
      " |  __float__(self, /)\n",
      " |      float(self)\n",
      " |  \n",
      " |  __floor__(...)\n",
      " |      Flooring an Integral returns itself.\n",
      " |  \n",
      " |  __floordiv__(self, value, /)\n",
      " |      Return self//value.\n",
      " |  \n",
      " |  __format__(self, format_spec, /)\n",
      " |      Default object formatter.\n",
      " |  \n",
      " |  __ge__(self, value, /)\n",
      " |      Return self>=value.\n",
      " |  \n",
      " |  __getattribute__(self, name, /)\n",
      " |      Return getattr(self, name).\n",
      " |  \n",
      " |  __getnewargs__(self, /)\n",
      " |  \n",
      " |  __gt__(self, value, /)\n",
      " |      Return self>value.\n",
      " |  \n",
      " |  __hash__(self, /)\n",
      " |      Return hash(self).\n",
      " |  \n",
      " |  __index__(self, /)\n",
      " |      Return self converted to an integer, if self is suitable for use as an index into a list.\n",
      " |  \n",
      " |  __int__(self, /)\n",
      " |      int(self)\n",
      " |  \n",
      " |  __invert__(self, /)\n",
      " |      ~self\n",
      " |  \n",
      " |  __le__(self, value, /)\n",
      " |      Return self<=value.\n",
      " |  \n",
      " |  __lshift__(self, value, /)\n",
      " |      Return self<<value.\n",
      " |  \n",
      " |  __lt__(self, value, /)\n",
      " |      Return self<value.\n",
      " |  \n",
      " |  __mod__(self, value, /)\n",
      " |      Return self%value.\n",
      " |  \n",
      " |  __mul__(self, value, /)\n",
      " |      Return self*value.\n",
      " |  \n",
      " |  __ne__(self, value, /)\n",
      " |      Return self!=value.\n",
      " |  \n",
      " |  __neg__(self, /)\n",
      " |      -self\n",
      " |  \n",
      " |  __or__(self, value, /)\n",
      " |      Return self|value.\n",
      " |  \n",
      " |  __pos__(self, /)\n",
      " |      +self\n",
      " |  \n",
      " |  __pow__(self, value, mod=None, /)\n",
      " |      Return pow(self, value, mod).\n",
      " |  \n",
      " |  __radd__(self, value, /)\n",
      " |      Return value+self.\n",
      " |  \n",
      " |  __rand__(self, value, /)\n",
      " |      Return value&self.\n",
      " |  \n",
      " |  __rdivmod__(self, value, /)\n",
      " |      Return divmod(value, self).\n",
      " |  \n",
      " |  __repr__(self, /)\n",
      " |      Return repr(self).\n",
      " |  \n",
      " |  __rfloordiv__(self, value, /)\n",
      " |      Return value//self.\n",
      " |  \n",
      " |  __rlshift__(self, value, /)\n",
      " |      Return value<<self.\n",
      " |  \n",
      " |  __rmod__(self, value, /)\n",
      " |      Return value%self.\n",
      " |  \n",
      " |  __rmul__(self, value, /)\n",
      " |      Return value*self.\n",
      " |  \n",
      " |  __ror__(self, value, /)\n",
      " |      Return value|self.\n",
      " |  \n",
      " |  __round__(...)\n",
      " |      Rounding an Integral returns itself.\n",
      " |      Rounding with an ndigits argument also returns an integer.\n",
      " |  \n",
      " |  __rpow__(self, value, mod=None, /)\n",
      " |      Return pow(value, self, mod).\n",
      " |  \n",
      " |  __rrshift__(self, value, /)\n",
      " |      Return value>>self.\n",
      " |  \n",
      " |  __rshift__(self, value, /)\n",
      " |      Return self>>value.\n",
      " |  \n",
      " |  __rsub__(self, value, /)\n",
      " |      Return value-self.\n",
      " |  \n",
      " |  __rtruediv__(self, value, /)\n",
      " |      Return value/self.\n",
      " |  \n",
      " |  __rxor__(self, value, /)\n",
      " |      Return value^self.\n",
      " |  \n",
      " |  __sizeof__(self, /)\n",
      " |      Returns size in memory, in bytes.\n",
      " |  \n",
      " |  __str__(self, /)\n",
      " |      Return str(self).\n",
      " |  \n",
      " |  __sub__(self, value, /)\n",
      " |      Return self-value.\n",
      " |  \n",
      " |  __truediv__(self, value, /)\n",
      " |      Return self/value.\n",
      " |  \n",
      " |  __trunc__(...)\n",
      " |      Truncating an Integral returns itself.\n",
      " |  \n",
      " |  __xor__(self, value, /)\n",
      " |      Return self^value.\n",
      " |  \n",
      " |  bit_length(self, /)\n",
      " |      Number of bits necessary to represent self in binary.\n",
      " |      \n",
      " |      >>> bin(37)\n",
      " |      '0b100101'\n",
      " |      >>> (37).bit_length()\n",
      " |      6\n",
      " |  \n",
      " |  conjugate(...)\n",
      " |      Returns self, the complex conjugate of any int.\n",
      " |  \n",
      " |  to_bytes(self, /, length, byteorder, *, signed=False)\n",
      " |      Return an array of bytes representing an integer.\n",
      " |      \n",
      " |      length\n",
      " |        Length of bytes object to use.  An OverflowError is raised if the\n",
      " |        integer is not representable with the given number of bytes.\n",
      " |      byteorder\n",
      " |        The byte order used to represent the integer.  If byteorder is 'big',\n",
      " |        the most significant byte is at the beginning of the byte array.  If\n",
      " |        byteorder is 'little', the most significant byte is at the end of the\n",
      " |        byte array.  To request the native byte order of the host system, use\n",
      " |        `sys.byteorder' as the byte order value.\n",
      " |      signed\n",
      " |        Determines whether two's complement is used to represent the integer.\n",
      " |        If signed is False and a negative integer is given, an OverflowError\n",
      " |        is raised.\n",
      " |  \n",
      " |  ----------------------------------------------------------------------\n",
      " |  Class methods defined here:\n",
      " |  \n",
      " |  from_bytes(bytes, byteorder, *, signed=False) from builtins.type\n",
      " |      Return the integer represented by the given array of bytes.\n",
      " |      \n",
      " |      bytes\n",
      " |        Holds the array of bytes to convert.  The argument must either\n",
      " |        support the buffer protocol or be an iterable object producing bytes.\n",
      " |        Bytes and bytearray are examples of built-in objects that support the\n",
      " |        buffer protocol.\n",
      " |      byteorder\n",
      " |        The byte order used to represent the integer.  If byteorder is 'big',\n",
      " |        the most significant byte is at the beginning of the byte array.  If\n",
      " |        byteorder is 'little', the most significant byte is at the end of the\n",
      " |        byte array.  To request the native byte order of the host system, use\n",
      " |        `sys.byteorder' as the byte order value.\n",
      " |      signed\n",
      " |        Indicates whether two's complement is used to represent the integer.\n",
      " |  \n",
      " |  ----------------------------------------------------------------------\n",
      " |  Static methods defined here:\n",
      " |  \n",
      " |  __new__(*args, **kwargs) from builtins.type\n",
      " |      Create and return a new object.  See help(type) for accurate signature.\n",
      " |  \n",
      " |  ----------------------------------------------------------------------\n",
      " |  Data descriptors defined here:\n",
      " |  \n",
      " |  denominator\n",
      " |      the denominator of a rational number in lowest terms\n",
      " |  \n",
      " |  imag\n",
      " |      the imaginary part of a complex number\n",
      " |  \n",
      " |  numerator\n",
      " |      the numerator of a rational number in lowest terms\n",
      " |  \n",
      " |  real\n",
      " |      the real part of a complex number\n",
      "\n"
     ]
    }
   ],
   "source": [
    "# Ejecutado de manera incorrecta\n",
    "help(abs(-1))"
   ]
  },
  {
   "cell_type": "markdown",
   "metadata": {},
   "source": [
    "En el primer caso nos dice qué argumentos recibe la función y además qué hace mientras que en el segundo notemos que primero resuelve `abs(-1)` lo cual tiene por output `1` y entonces lo que realemente estamos evaluando en help es `help(1)` y `1` es un `int` entonces nos da la descripción de la case `int`. "
   ]
  },
  {
   "cell_type": "markdown",
   "metadata": {},
   "source": [
    "# De como definir funciones"
   ]
  },
  {
   "cell_type": "markdown",
   "metadata": {},
   "source": [
    "Las funciones _built-in_ o _nativas_ son muy útiles pero limitarnos a ellas limitaría nuestro trabajo: imagina que tienes una rutina de limpieza que debes aplicarle a un conjunto de datos siempre y para distintos conjuntos de datos Qué sería más rápido ¿Que pudieras mudar toda esa rutina de operaciones en una instrucción úninca o tener que escribir todas las veces la operación? \n",
    "\n",
    "Ese es el espíritu de las funciones, encapsular en un solo lugar procesos pare en lugar de repetirlos una y otra vez puedas llamar a una sola instrucción que haga todo y además te regrese el resultado y lo puedas usar para futuros cálculos. "
   ]
  },
  {
   "cell_type": "markdown",
   "metadata": {},
   "source": [
    "Supongamos que queremos encontrar el mínimo la diferencia absoluta entre un conjunto de cuatro números `a`, `b`, `c` y `d`. Una forma de resolver estos sería como sigue:"
   ]
  },
  {
   "cell_type": "code",
   "execution_count": 13,
   "metadata": {},
   "outputs": [],
   "source": [
    "a = 1\n",
    "b = 2\n",
    "c = 10\n",
    "d = 1"
   ]
  },
  {
   "cell_type": "code",
   "execution_count": 20,
   "metadata": {},
   "outputs": [
    {
     "name": "stdout",
     "output_type": "stream",
     "text": [
      "d1 = 1, d2 = 9, d3 = 0, d4 = 8, d5 = 1, d6 = 9\n",
      " \n",
      "El mínimo es 0\n"
     ]
    }
   ],
   "source": [
    "d1 = abs(a-b)\n",
    "d2 = abs(a-c)\n",
    "d3 = abs(a-d)\n",
    "d4 = abs(b-c)\n",
    "d5 = abs(b-d)\n",
    "d6 = abs(c-d)\n",
    "minimo = min(d1,d2,d3,d4,d5,d6)\n",
    "print('d1 = {}, d2 = {}, d3 = {}, d4 = {}, d5 = {}, d6 = {}'.format(d1,d2,d3,d4,d5,d6),end='\\n \\n')\n",
    "print('El mínimo es {}'.format(minimo))"
   ]
  },
  {
   "cell_type": "markdown",
   "metadata": {},
   "source": [
    "Bueno, parece que no fue muy problemático ¿Y qué pasa si tenemos un nuevo conjunto de números? Bueno, pues copiamos y pegamos:"
   ]
  },
  {
   "cell_type": "code",
   "execution_count": 21,
   "metadata": {},
   "outputs": [],
   "source": [
    "# Nuevo conjunto de números\n",
    "a = 11\n",
    "b = 2\n",
    "c = 89\n",
    "d = 16"
   ]
  },
  {
   "cell_type": "code",
   "execution_count": 22,
   "metadata": {},
   "outputs": [
    {
     "name": "stdout",
     "output_type": "stream",
     "text": [
      "d1 = 9, d2 = 78, d3 = 5, d4 = 87, d5 = 14, d6 = 73\n",
      " \n",
      "El mínimo es 5\n"
     ]
    }
   ],
   "source": [
    "d1 = abs(a-b)\n",
    "d2 = abs(a-c)\n",
    "d3 = abs(a-d)\n",
    "d4 = abs(b-c)\n",
    "d5 = abs(b-d)\n",
    "d6 = abs(c-d)\n",
    "minimo = min(d1,d2,d3,d4,d5,d6)\n",
    "print('d1 = {}, d2 = {}, d3 = {}, d4 = {}, d5 = {}, d6 = {}'.format(d1,d2,d3,d4,d5,d6),end='\\n \\n')\n",
    "print('El mínimo es {}'.format(minimo))"
   ]
  },
  {
   "cell_type": "markdown",
   "metadata": {},
   "source": [
    "¿Y qué pasa ahora si tenemos un nuevo conjunto y además las variables tiene otro nombre? Bueno, pues creo que ya tenemos la idea de que necesitamos poder guardar esa serie de operaciones para poder usarlas a futuro:"
   ]
  },
  {
   "cell_type": "code",
   "execution_count": 1,
   "metadata": {},
   "outputs": [],
   "source": [
    "def dif_minima(a,b,c,d):\n",
    "    d1 = abs(a-b)\n",
    "    d2 = abs(a-c)\n",
    "    d3 = abs(a-d)\n",
    "    d4 = abs(b-c)\n",
    "    d5 = abs(b-d)\n",
    "    d6 = abs(c-d)\n",
    "    return min(d1,d2,d3,d4,d5,d6)"
   ]
  },
  {
   "cell_type": "markdown",
   "metadata": {},
   "source": [
    "La celda de código anterior crea una función llamada `dif_minima` (diferencia mínima), la cual toma tres argumentos `a`, `b` y `c`.\n",
    "\n",
    "La funciones siempre comenzarán con la _palabra reservada_ `def` y lo que va a ser ejecutado como parte de la función es aquello que esté identado después de `:`.\n",
    "\n",
    "`return` es otra palabra reservada y es usada únicamente en el contexto de las funciones. Cuando Python llega al enunciado de `return` termina y sale de la función inmediatamente y pasa el valor de lo que esté a la derecha al contexto donde fue llamada. \n",
    "\n",
    "¿Es claro ver qué hace la función `dif_minima` a partir de leer el código fuente? Si no, siempre se pueden hacer algunas pruebas:"
   ]
  },
  {
   "cell_type": "code",
   "execution_count": null,
   "metadata": {},
   "outputs": [],
   "source": [
    "print(\n",
    "    dif_minima(1,2,3,4),\n",
    "    dif_minima(2,4,6,8),\n",
    "    dif_minima(0,2,3,5)\n",
    ")"
   ]
  },
  {
   "cell_type": "markdown",
   "metadata": {},
   "source": [
    "Si aún así no es claro lo podríamos intentar usar la función `help()`"
   ]
  },
  {
   "cell_type": "code",
   "execution_count": 2,
   "metadata": {},
   "outputs": [
    {
     "name": "stdout",
     "output_type": "stream",
     "text": [
      "Help on function dif_minima in module __main__:\n",
      "\n",
      "dif_minima(a, b, c, d)\n",
      "\n"
     ]
    }
   ],
   "source": [
    "help(dif_minima)"
   ]
  },
  {
   "cell_type": "markdown",
   "metadata": {},
   "source": [
    "¿Ayudó de algo?"
   ]
  },
  {
   "cell_type": "markdown",
   "metadata": {},
   "source": [
    "Python no es lo suficientemente inteligente para poder leer e interpretar el código de manera automática a una descruipción. Por esto es que cuando escribimos una función por el bien de nuestro yo del futuro, nuestros y nuestras colegas y la comunidad en general que tenga acceso al código que escribimos debemos de agregar un **docstring**.  "
   ]
  },
  {
   "cell_type": "markdown",
   "metadata": {},
   "source": [
    "# Docstrings"
   ]
  },
  {
   "cell_type": "code",
   "execution_count": 14,
   "metadata": {},
   "outputs": [],
   "source": [
    "def dif_minima(a,b,c,d):\n",
    "    \"\"\"\n",
    "    \n",
    "    Esta función calcula la diferencia absoluta entre cuatro números\n",
    "    a, b, c y d, y nos regresa la mínima de las mismas. \n",
    "    \n",
    "    Parameters\n",
    "    ----------\n",
    "    a,b,c,d : int or float\n",
    "        Son números entre los cuales se calculará la diferencia\n",
    "        \n",
    "    Returns\n",
    "    ----------\n",
    "    int or float\n",
    "        Se regresa el mínimo de las diferencias absolutas entre números\n",
    "    \n",
    "    Examples\n",
    "    --------\n",
    "    >>> dif_minima(1,1,1,1)\n",
    "    0\n",
    "    \n",
    "    >>> dif_minima(2,1,4,7)\n",
    "    1\n",
    "        \n",
    "    \"\"\"\n",
    "    d1 = abs(a-b)\n",
    "    d2 = abs(a-c)\n",
    "    d3 = abs(a-d)\n",
    "    d4 = abs(b-c)\n",
    "    d5 = abs(b-d)\n",
    "    d6 = abs(c-d)\n",
    "    return min(d1,d2,d3,d4,d5,d6)"
   ]
  },
  {
   "cell_type": "markdown",
   "metadata": {},
   "source": [
    "Las **docstrings** son cadenas con tres pares de comillas dobles las cuales se pueden extender pode muchas lineas y además _conservan formato_.  Cuando nosotros llamamos a la función `help()` sobre una función se muestra directamente el docstring."
   ]
  },
  {
   "cell_type": "code",
   "execution_count": 15,
   "metadata": {},
   "outputs": [
    {
     "name": "stdout",
     "output_type": "stream",
     "text": [
      "Help on function dif_minima in module __main__:\n",
      "\n",
      "dif_minima(a, b, c, d)\n",
      "    Esta función calcula la diferencia absoluta entre cuatro números\n",
      "    a, b, c y d, y nos regresa la mínima de las mismas. \n",
      "    \n",
      "    Parameters\n",
      "    ----------\n",
      "    a,b,c,d : int or float\n",
      "        Son números entre los cuales se calculará la diferencia\n",
      "        \n",
      "    Returns\n",
      "    ----------\n",
      "    int or float\n",
      "        Se regresa el mínimo de las diferencias absolutas entre números\n",
      "    \n",
      "    Examples\n",
      "    --------\n",
      "    >>> dif_minima(1,1,1,1)\n",
      "    0\n",
      "    \n",
      "    >>> dif_minima(2,1,4,7)\n",
      "    1\n",
      "\n"
     ]
    }
   ],
   "source": [
    "help(dif_minima)"
   ]
  },
  {
   "cell_type": "markdown",
   "metadata": {},
   "source": [
    "En las buenas prácticas de código se incluye SIEMPRE escribir docstrings ya que no solamente ayudará a otras personas a usar tu código de manera efectiva sino también cuando revisites tu código podrás recordar y entender qué hace (créeme, es muy útil dejar código documentado, tanto que por no hacerlo una vez tuve que reescribir cerca de 1000 líneas de código).\n",
    "\n",
    "> _Invertir tiempo en escribir docstrings te ahorrará mucho más tiempo que el que invertirás descubriendo qué hace la función que escribiste hace un mes_"
   ]
  },
  {
   "cell_type": "markdown",
   "metadata": {},
   "source": [
    "**NOTA**: No existe un estándar de cómo escribir docstring sino que existen muchos formatos: [NumpyDoc](https://numpydoc.readthedocs.io/en/latest/format.html), [PEP 287 o reST](https://www.python.org/dev/peps/pep-0287/), [EpiText](http://epydoc.sourceforge.net/) o [Google Format](https://github.com/google/styleguide/blob/gh-pages/pyguide.md#38-comments-and-docstrings). Ninguno es mejor que otro, todos los formatos tienen sus ventajas y desventajas. Usa el que más te agrade pero documenta. "
   ]
  },
  {
   "cell_type": "markdown",
   "metadata": {},
   "source": [
    "# Funciones sin `return` "
   ]
  },
  {
   "cell_type": "code",
   "execution_count": null,
   "metadata": {},
   "outputs": [],
   "source": []
  }
 ],
 "metadata": {
  "kernelspec": {
   "display_name": "Python 3",
   "language": "python",
   "name": "python3"
  },
  "language_info": {
   "codemirror_mode": {
    "name": "ipython",
    "version": 3
   },
   "file_extension": ".py",
   "mimetype": "text/x-python",
   "name": "python",
   "nbconvert_exporter": "python",
   "pygments_lexer": "ipython3",
   "version": "3.7.3"
  },
  "toc-autonumbering": true
 },
 "nbformat": 4,
 "nbformat_minor": 4
}
